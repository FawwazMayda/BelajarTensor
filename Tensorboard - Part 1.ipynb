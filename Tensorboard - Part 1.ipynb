{
 "cells": [
  {
   "cell_type": "code",
   "execution_count": 1,
   "metadata": {
    "collapsed": true
   },
   "outputs": [],
   "source": [
    "import tensorflow as tf"
   ]
  },
  {
   "cell_type": "code",
   "execution_count": 2,
   "metadata": {
    "collapsed": true
   },
   "outputs": [],
   "source": [
    "a = tf.constant(2)\n",
    "b = tf.constant(5)\n",
    "c = tf.add(a,b)"
   ]
  },
  {
   "cell_type": "code",
   "execution_count": 6,
   "metadata": {},
   "outputs": [],
   "source": [
    "with tf.Session() as ss:\n",
    "    tf.summary.FileWriter(\"./graphs\",ss.graph)\n",
    "    ss.run(c)"
   ]
  },
  {
   "cell_type": "code",
   "execution_count": 9,
   "metadata": {
    "collapsed": true
   },
   "outputs": [],
   "source": [
    "tf.reset_default_graph()\n",
    "x = tf.constant(5)\n",
    "y = tf.constant(10)\n",
    "z = tf.multiply(x,y)"
   ]
  },
  {
   "cell_type": "code",
   "execution_count": 10,
   "metadata": {},
   "outputs": [
    {
     "name": "stdout",
     "output_type": "stream",
     "text": [
      "50\n"
     ]
    }
   ],
   "source": [
    "with tf.Session() as ss:\n",
    "    tf.summary.FileWriter(\"./graphs\",ss.graph)\n",
    "    print(ss.run(z))"
   ]
  },
  {
   "cell_type": "code",
   "execution_count": 11,
   "metadata": {
    "collapsed": true
   },
   "outputs": [],
   "source": [
    "import numpy as np"
   ]
  },
  {
   "cell_type": "code",
   "execution_count": 21,
   "metadata": {},
   "outputs": [],
   "source": [
    "nlai = []\n",
    "for _ in range(50):\n",
    "    nlai.append(np.random.uniform(0,50.0))"
   ]
  },
  {
   "cell_type": "code",
   "execution_count": 24,
   "metadata": {},
   "outputs": [
    {
     "name": "stdout",
     "output_type": "stream",
     "text": [
      "INFO:tensorflow:Summary name First Scalar Summary is illegal; using First_Scalar_Summary instead.\n",
      "Done writing scalar summary\n"
     ]
    }
   ],
   "source": [
    "n = tf.placeholder(dtype=tf.float64)\n",
    "f_s= tf.summary.scalar(\"First Scalar Summary\",n)\n",
    "with tf.Session() as ss:\n",
    "    writer = tf.summary.FileWriter(\"./graphs\",ss.graph)\n",
    "    for i in range(50):\n",
    "        ss.run(n,feed_dict={n:nlai[i]})\n",
    "        summ = ss.run(f_s,feed_dict={n:nlai[i]})\n",
    "        writer.add_summary(summ,i)\n",
    "    print(\"Done writing scalar summary\")\n",
    "    "
   ]
  },
  {
   "cell_type": "code",
   "execution_count": null,
   "metadata": {
    "collapsed": true
   },
   "outputs": [],
   "source": []
  }
 ],
 "metadata": {
  "kernelspec": {
   "display_name": "Python 3",
   "language": "python",
   "name": "python3"
  },
  "language_info": {
   "codemirror_mode": {
    "name": "ipython",
    "version": 3
   },
   "file_extension": ".py",
   "mimetype": "text/x-python",
   "name": "python",
   "nbconvert_exporter": "python",
   "pygments_lexer": "ipython3",
   "version": "3.6.3"
  }
 },
 "nbformat": 4,
 "nbformat_minor": 2
}
