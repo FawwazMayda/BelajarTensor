{
 "cells": [
  {
   "cell_type": "code",
   "execution_count": 1,
   "metadata": {
    "collapsed": true
   },
   "outputs": [],
   "source": [
    "import tensorflow as tf\n",
    "import numpy as np\n",
    "import matplotlib.pyplot as plt"
   ]
  },
  {
   "cell_type": "code",
   "execution_count": 2,
   "metadata": {
    "collapsed": true
   },
   "outputs": [],
   "source": [
    "vector = []\n",
    "num_points = 100\n",
    "for _ in range(num_points):\n",
    "    x=np.random.uniform(0.0,90)\n",
    "    # y= 0.23*x + 0.92 + Noise\n",
    "    y=0.23 * x + 0.92 + np.random.normal(0,0.54)\n",
    "    vector.append([x,y])"
   ]
  },
  {
   "cell_type": "code",
   "execution_count": 3,
   "metadata": {
    "collapsed": true
   },
   "outputs": [],
   "source": [
    "X_d = np.array([k[0] for k in vector])\n",
    "y_d = np.array([k[1] for k in vector])"
   ]
  },
  {
   "cell_type": "code",
   "execution_count": 4,
   "metadata": {},
   "outputs": [
    {
     "data": {
      "image/png": "[encoded data removed]",
      "text/plain": [
       "<matplotlib.figure.Figure at 0x7f98f352ad68>"
      ]
     },
     "metadata": {},
     "output_type": "display_data"
    }
   ],
   "source": [
    "plt.scatter(X_d,y_d)\n",
    "plt.show()"
   ]
  },
  {
   "cell_type": "code",
   "execution_count": 5,
   "metadata": {
    "collapsed": true
   },
   "outputs": [],
   "source": [
    "X_d = X_d.reshape((-1,1))\n",
    "y_d = y_d.reshape((-1,1))"
   ]
  },
  {
   "cell_type": "code",
   "execution_count": 6,
   "metadata": {},
   "outputs": [
    {
     "data": {
      "text/plain": [
       "(100, 1)"
      ]
     },
     "execution_count": 6,
     "metadata": {},
     "output_type": "execute_result"
    }
   ],
   "source": [
    "y_d.shape"
   ]
  },
  {
   "cell_type": "code",
   "execution_count": 41,
   "metadata": {
    "collapsed": true
   },
   "outputs": [],
   "source": [
    "X=tf.placeholder(shape=[None,1],dtype=tf.float32)\n",
    "y=tf.placeholder(shape=[None,1],dtype=tf.float32)\n",
    "\n",
    "W= tf.Variable(tf.random_normal([1],0.5,0.5),name=\"Weight\")\n",
    "b= tf.Variable(tf.random_normal([1],0.5,0.5),name=\"bias\")\n",
    "y_p = tf.add(tf.multiply(X,W),b)"
   ]
  },
  {
   "cell_type": "code",
   "execution_count": 44,
   "metadata": {
    "collapsed": true
   },
   "outputs": [],
   "source": [
    "loss = tf.reduce_mean(tf.squared_difference(y_p,y))\n",
    "optim = tf.train.GradientDescentOptimizer(learning_rate=0.5)\n",
    "train = optim.minimize(loss)"
   ]
  },
  {
   "cell_type": "code",
   "execution_count": 47,
   "metadata": {},
   "outputs": [
    {
     "name": "stdout",
     "output_type": "stream",
     "text": [
      "[None, 97.216759, array([-487.46261597], dtype=float32)]\n",
      "[None, 5.8497005e+08, array([ 1198597.875], dtype=float32)]\n",
      "[None, 3.5332704e+15, array([ -2.94574387e+09], dtype=float32)]\n",
      "[None, 2.1341255e+22, array([  7.23963295e+12], dtype=float32)]\n",
      "[None, 1.2890302e+29, array([ -1.77925473e+16], dtype=float32)]\n",
      "[None, 7.7858545e+35, array([  4.37280084e+19], dtype=float32)]\n",
      "[None, inf, array([ -1.07468524e+23], dtype=float32)]\n",
      "[None, inf, array([  2.64120980e+26], dtype=float32)]\n",
      "[None, inf, array([ -6.49119194e+29], dtype=float32)]\n",
      "[None, inf, array([  1.59531337e+33], dtype=float32)]\n"
     ]
    },
    {
     "data": {
      "image/png": "[encoded data removed]",
      "text/plain": [
       "<matplotlib.figure.Figure at 0x7ff699941a20>"
      ]
     },
     "metadata": {},
     "output_type": "display_data"
    }
   ],
   "source": [
    "epoch = 10\n",
    "init = tf.global_variables_initializer()\n",
    "with tf.Session() as ss:\n",
    "    ss.run(init)\n",
    "    for step in range(epoch):\n",
    "        print(ss.run([train,loss,W],feed_dict={X:X_d,y:y_d}))\n",
    "        #print(\"Step = {}, Loss={}, W={}, b={}\".format(step,ss.run(loss,feed_dict={X:X_d,y:y_d}),ss.run(W,feed_dict={X:X_d,y:y_d}),ss.run(b,feed_dict={X:X_d,y:y_d})))\n",
    "    plt.scatter(X_d,y_d,label=\"Actual\")\n",
    "    #plt.plot(X_d,ss.run(W,feed_dict={X:X_d,y:y_d})*X_d + ss.run(b,feed_dict={X:X_d,y:y_d}),label=\"Predicted\")\n",
    "    plt.legend()\n",
    "    plt.show()"
   ]
  },
  {
   "cell_type": "markdown",
   "metadata": {},
   "source": [
    "# Dengan Tensorboard"
   ]
  },
  {
   "cell_type": "code",
   "execution_count": 7,
   "metadata": {
    "collapsed": true
   },
   "outputs": [],
   "source": [
    "with tf.name_scope(\"LinearReg\") as scope:\n",
    "    W = tf.Variable(tf.random_uniform([1], -1.0, 1.0), name=\"Weights\")\n",
    "    b = tf.Variable(tf.zeros([1.0]), name=\"Bias\")\n",
    "    y = W * X_d + b\n",
    "    \n",
    "with tf.name_scope(\"LossFunc\") as scope:\n",
    "    loss = tf.reduce_mean(tf.square(y-y_d))\n",
    "    \n",
    "optimizer = tf.train.GradientDescentOptimizer(0.5)\n",
    "train = optimizer.minimize(loss)"
   ]
  },
  {
   "cell_type": "code",
   "execution_count": 8,
   "metadata": {
    "collapsed": true
   },
   "outputs": [],
   "source": [
    "loss_summary = tf.summary.scalar(\"loss\",loss)\n",
    "w_h = tf.summary.histogram(\"W\",W)\n",
    "b_h = tf.summary.histogram(\"b\",b)\n",
    "\n",
    "#Merge all the summaries\n",
    "merged_op = tf.summary.merge_all()\n",
    "init2=tf.global_variables_initializer()"
   ]
  },
  {
   "cell_type": "code",
   "execution_count": null,
   "metadata": {
    "collapsed": true
   },
   "outputs": [],
   "source": [
    "writer_tensorboard = tf.train.SummaryWriter('/home/leo/test', session.graph_def)"
   ]
  },
  {
   "cell_type": "code",
   "execution_count": 10,
   "metadata": {},
   "outputs": [
    {
     "ename": "AttributeError",
     "evalue": "'SummaryWriter' object has no attribute 'add_summary'",
     "output_type": "error",
     "traceback": [
      "\u001b[0;31m---------------------------------------------------------------------------\u001b[0m",
      "\u001b[0;31mAttributeError\u001b[0m                            Traceback (most recent call last)",
      "\u001b[0;32m<ipython-input-10-1a218c42d195>\u001b[0m in \u001b[0;36m<module>\u001b[0;34m()\u001b[0m\n\u001b[1;32m      8\u001b[0m         \u001b[0;31m# Add summary (Everytime could be to much....)\u001b[0m\u001b[0;34m\u001b[0m\u001b[0;34m\u001b[0m\u001b[0m\n\u001b[1;32m      9\u001b[0m         \u001b[0mresult_summary\u001b[0m \u001b[0;34m=\u001b[0m \u001b[0mss\u001b[0m\u001b[0;34m.\u001b[0m\u001b[0mrun\u001b[0m\u001b[0;34m(\u001b[0m\u001b[0mmerged_op\u001b[0m\u001b[0;34m)\u001b[0m\u001b[0;34m\u001b[0m\u001b[0m\n\u001b[0;32m---> 10\u001b[0;31m         \u001b[0mwriter_tensorboard\u001b[0m\u001b[0;34m.\u001b[0m\u001b[0madd_summary\u001b[0m\u001b[0;34m(\u001b[0m\u001b[0mresult_summary\u001b[0m\u001b[0;34m,\u001b[0m \u001b[0mstep\u001b[0m\u001b[0;34m)\u001b[0m\u001b[0;34m\u001b[0m\u001b[0m\n\u001b[0m",
      "\u001b[0;31mAttributeError\u001b[0m: 'SummaryWriter' object has no attribute 'add_summary'"
     ]
    }
   ],
   "source": [
    "with tf.Session() as ss:\n",
    "    ss.run(init2)\n",
    "    writer_tensorboard = tf.contrib.summary.SummaryWriter(\"/train\",ss.graph)\n",
    "    for step in range(100):\n",
    "        # Optimize one step\n",
    "        ss.run(train)\n",
    "\n",
    "        # Add summary (Everytime could be to much....)\n",
    "        result_summary = ss.run(merged_op)    \n",
    "        writer_tensorboard.add_summary(result_summary, step)\n"
   ]
  },
  {
   "cell_type": "code",
   "execution_count": null,
   "metadata": {
    "collapsed": true
   },
   "outputs": [],
   "source": []
  }
 ],
 "metadata": {
  "kernelspec": {
   "display_name": "Python 3",
   "language": "python",
   "name": "python3"
  },
  "language_info": {
   "codemirror_mode": {
    "name": "ipython",
    "version": 3
   },
   "file_extension": ".py",
   "mimetype": "text/x-python",
   "name": "python",
   "nbconvert_exporter": "python",
   "pygments_lexer": "ipython3",
   "version": "3.6.3"
  }
 },
 "nbformat": 4,
 "nbformat_minor": 2
}
