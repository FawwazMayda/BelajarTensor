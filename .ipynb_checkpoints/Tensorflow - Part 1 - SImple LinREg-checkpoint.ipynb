{
 "cells": [
  {
   "cell_type": "code",
   "execution_count": 1,
   "metadata": {
    "collapsed": true
   },
   "outputs": [],
   "source": [
    "import tensorflow as tf\n",
    "import numpy as np\n",
    "import matplotlib.pyplot as plt"
   ]
  },
  {
   "cell_type": "code",
   "execution_count": 2,
   "metadata": {
    "collapsed": true
   },
   "outputs": [],
   "source": [
    "a=tf.placeholder(tf.float32)\n",
    "b=tf.placeholder(tf.float32)\n",
    "c=tf.multiply(a,b)"
   ]
  },
  {
   "cell_type": "code",
   "execution_count": 3,
   "metadata": {},
   "outputs": [
    {
     "name": "stdout",
     "output_type": "stream",
     "text": [
      "18.0\n"
     ]
    }
   ],
   "source": [
    "with tf.Session() as ss:\n",
    "    print(ss.run(c,feed_dict={a:3,b:6}))"
   ]
  },
  {
   "cell_type": "markdown",
   "metadata": {},
   "source": [
    "# Simple Lin Reg"
   ]
  },
  {
   "cell_type": "code",
   "execution_count": 4,
   "metadata": {
    "collapsed": true
   },
   "outputs": [],
   "source": [
    "points= 100\n",
    "vector_s = []\n",
    "for i in range(points):\n",
    "    #Fungsi y= 0.7*x + 0.12 \n",
    "    x=np.random.normal(0,0.62)\n",
    "    y=0.7*x + 0.12 + np.random.normal(0,0.13)\n",
    "    vector_s.append([x,y])"
   ]
  },
  {
   "cell_type": "code",
   "execution_count": 5,
   "metadata": {
    "collapsed": true
   },
   "outputs": [],
   "source": [
    "X_d = [k[0] for k in vector_s]\n",
    "y_d = [k[1] for k in vector_s]"
   ]
  },
  {
   "cell_type": "code",
   "execution_count": 6,
   "metadata": {},
   "outputs": [
    {
     "data": {
      "image/png": "[encoded data removed]",
      "text/plain": [
       "<matplotlib.figure.Figure at 0x7f371bfb77b8>"
      ]
     },
     "metadata": {},
     "output_type": "display_data"
    }
   ],
   "source": [
    "plt.scatter(X_d,y_d)\n",
    "plt.show()"
   ]
  },
  {
   "cell_type": "code",
   "execution_count": 7,
   "metadata": {
    "collapsed": true
   },
   "outputs": [],
   "source": [
    "W = tf.Variable(tf.random_uniform([1], -1.0, 1.0))\n",
    "b = tf.Variable(tf.zeros([1.0]))\n",
    "y = W * X_d + b\n",
    "\n",
    "W2 = tf.Variable(tf.random_uniform([1], -1.0, 1.0))\n",
    "b2 = tf.Variable(tf.zeros([1.0]))\n",
    "y2 = W2 * X_d + b2"
   ]
  },
  {
   "cell_type": "code",
   "execution_count": 8,
   "metadata": {
    "collapsed": true
   },
   "outputs": [],
   "source": [
    "loss = tf.reduce_mean(tf.square(y-y_d))\n",
    "loss2 = tf.sqrt(tf.reduce_mean(tf.square(y2-y_d)))\n",
    "optim = tf.train.GradientDescentOptimizer(learning_rate=0.1)\n",
    "training = optim.minimize(loss)\n",
    "training2 = optim.minimize(loss2)"
   ]
  },
  {
   "cell_type": "markdown",
   "metadata": {},
   "source": [
    "Dengan loss function SSE (tf.reduce_mean(tf.square(y-y_d)))"
   ]
  },
  {
   "cell_type": "code",
   "execution_count": 9,
   "metadata": {},
   "outputs": [
    {
     "name": "stdout",
     "output_type": "stream",
     "text": [
      "Step=0, loss=0.062334, [W=0.394641 b=0.028322]\n",
      "Step=1, loss=0.052759, [W=0.417635 b=0.050784]\n",
      "Step=2, loss=0.045720, [W=0.438601 b=0.068577]\n",
      "Step=3, loss=0.040443, [W=0.457740 b=0.082649]\n",
      "Step=4, loss=0.036413, [W=0.475227 b=0.093758]\n",
      "Step=5, loss=0.033280, [W=0.491219 b=0.102511]\n",
      "Step=6, loss=0.030806, [W=0.505854 b=0.109389]\n",
      "Step=7, loss=0.028827, [W=0.519256 b=0.114779]\n",
      "Step=8, loss=0.027224, [W=0.531536 b=0.118987]\n",
      "Step=9, loss=0.025914, [W=0.542793 b=0.122259]\n",
      "Step=10, loss=0.024836, [W=0.553118 b=0.124790]\n",
      "Step=11, loss=0.023942, [W=0.562590 b=0.126734]\n",
      "Step=12, loss=0.023198, [W=0.571284 b=0.128217]\n",
      "Step=13, loss=0.022576, [W=0.579266 b=0.129335]\n",
      "Step=14, loss=0.022054, [W=0.586596 b=0.130169]\n",
      "Step=15, loss=0.021616, [W=0.593328 b=0.130779]\n",
      "Step=16, loss=0.021248, [W=0.599513 b=0.131215]\n",
      "Step=17, loss=0.020937, [W=0.605196 b=0.131516]\n",
      "Step=18, loss=0.020675, [W=0.610418 b=0.131713]\n",
      "Step=19, loss=0.020454, [W=0.615218 b=0.131830]\n",
      "Step=20, loss=0.020267, [W=0.619630 b=0.131887]\n",
      "Step=21, loss=0.020109, [W=0.623686 b=0.131898]\n",
      "Step=22, loss=0.019976, [W=0.627415 b=0.131876]\n",
      "Step=23, loss=0.019863, [W=0.630844 b=0.131829]\n",
      "Step=24, loss=0.019768, [W=0.633996 b=0.131765]\n",
      "Step=25, loss=0.019687, [W=0.636895 b=0.131690]\n",
      "Step=26, loss=0.019619, [W=0.639560 b=0.131607]\n",
      "Step=27, loss=0.019561, [W=0.642012 b=0.131520]\n",
      "Step=28, loss=0.019512, [W=0.644266 b=0.131432]\n",
      "Step=29, loss=0.019471, [W=0.646340 b=0.131344]\n",
      "Step=30, loss=0.019436, [W=0.648247 b=0.131258]\n",
      "Step=31, loss=0.019406, [W=0.650001 b=0.131174]\n",
      "Step=32, loss=0.019381, [W=0.651614 b=0.131093]\n",
      "Step=33, loss=0.019360, [W=0.653097 b=0.131016]\n",
      "Step=34, loss=0.019342, [W=0.654462 b=0.130943]\n",
      "Step=35, loss=0.019327, [W=0.655717 b=0.130874]\n",
      "Step=36, loss=0.019314, [W=0.656872 b=0.130809]\n",
      "Step=37, loss=0.019303, [W=0.657934 b=0.130748]\n",
      "Step=38, loss=0.019294, [W=0.658911 b=0.130691]\n",
      "Step=39, loss=0.019286, [W=0.659809 b=0.130638]\n",
      "Step=40, loss=0.019279, [W=0.660636 b=0.130589]\n",
      "Step=41, loss=0.019274, [W=0.661396 b=0.130543]\n",
      "Step=42, loss=0.019269, [W=0.662096 b=0.130500]\n",
      "Step=43, loss=0.019265, [W=0.662739 b=0.130461]\n",
      "Step=44, loss=0.019262, [W=0.663331 b=0.130424]\n",
      "Step=45, loss=0.019259, [W=0.663875 b=0.130390]\n",
      "Step=46, loss=0.019257, [W=0.664376 b=0.130359]\n",
      "Step=47, loss=0.019255, [W=0.664836 b=0.130330]\n",
      "Step=48, loss=0.019253, [W=0.665260 b=0.130304]\n",
      "Step=49, loss=0.019251, [W=0.665650 b=0.130279]\n",
      "Step=50, loss=0.019250, [W=0.666008 b=0.130256]\n",
      "Step=51, loss=0.019249, [W=0.666338 b=0.130235]\n",
      "Step=52, loss=0.019248, [W=0.666641 b=0.130216]\n",
      "Step=53, loss=0.019247, [W=0.666920 b=0.130198]\n",
      "Step=54, loss=0.019247, [W=0.667177 b=0.130182]\n",
      "Step=55, loss=0.019246, [W=0.667413 b=0.130167]\n",
      "Step=56, loss=0.019246, [W=0.667630 b=0.130153]\n",
      "Step=57, loss=0.019245, [W=0.667830 b=0.130140]\n",
      "Step=58, loss=0.019245, [W=0.668014 b=0.130129]\n",
      "Step=59, loss=0.019245, [W=0.668183 b=0.130118]\n",
      "Step=60, loss=0.019245, [W=0.668338 b=0.130108]\n",
      "Step=61, loss=0.019244, [W=0.668481 b=0.130099]\n",
      "Step=62, loss=0.019244, [W=0.668613 b=0.130090]\n",
      "Step=63, loss=0.019244, [W=0.668734 b=0.130082]\n",
      "Step=64, loss=0.019244, [W=0.668845 b=0.130075]\n",
      "Step=65, loss=0.019244, [W=0.668948 b=0.130069]\n",
      "Step=66, loss=0.019244, [W=0.669042 b=0.130062]\n",
      "Step=67, loss=0.019244, [W=0.669129 b=0.130057]\n",
      "Step=68, loss=0.019244, [W=0.669208 b=0.130052]\n",
      "Step=69, loss=0.019244, [W=0.669282 b=0.130047]\n",
      "Step=70, loss=0.019244, [W=0.669349 b=0.130043]\n",
      "Step=71, loss=0.019243, [W=0.669411 b=0.130039]\n",
      "Step=72, loss=0.019243, [W=0.669468 b=0.130035]\n",
      "Step=73, loss=0.019243, [W=0.669521 b=0.130032]\n",
      "Step=74, loss=0.019243, [W=0.669569 b=0.130029]\n",
      "Step=75, loss=0.019243, [W=0.669614 b=0.130026]\n",
      "Step=76, loss=0.019243, [W=0.669655 b=0.130023]\n",
      "Step=77, loss=0.019243, [W=0.669692 b=0.130021]\n",
      "Step=78, loss=0.019243, [W=0.669727 b=0.130018]\n",
      "Step=79, loss=0.019243, [W=0.669759 b=0.130016]\n"
     ]
    },
    {
     "data": {
      "image/png": "[encoded data removed]",
      "text/plain": [
       "<matplotlib.figure.Figure at 0x7f37180407b8>"
      ]
     },
     "metadata": {},
     "output_type": "display_data"
    }
   ],
   "source": [
    "init = tf.global_variables_initializer()\n",
    "epoch = 80\n",
    "with tf.Session() as ss:\n",
    "    ss.run(init)\n",
    "    for step in range(epoch):\n",
    "        ss.run(training)\n",
    "        # Get access to graph variables(just read) with session.run(varName)    \n",
    "        print(\"Step=%d, loss=%f, [W=%f b=%f]\" % (step,ss.run(loss),ss.run(W),ss.run(b)))\n",
    "    plt.scatter(X_d, y_d, label=\"Actual\")\n",
    "    plt.plot(X_d, ss.run(W) * X_d + ss.run(b),label=\"Predicted\")\n",
    "    plt.xlabel('x')\n",
    "    plt.ylabel('y')\n",
    "    plt.legend()\n",
    "    plt.show()"
   ]
  },
  {
   "cell_type": "markdown",
   "metadata": {},
   "source": [
    "Dengan loss function RMSE (tf.sqrt(tf.reduce_mean(tf.square(y2-y_d)))"
   ]
  },
  {
   "cell_type": "code",
   "execution_count": 10,
   "metadata": {},
   "outputs": [
    {
     "name": "stdout",
     "output_type": "stream",
     "text": [
      "Step=0, loss=0.224175, [W=0.921629 b=0.045385]\n",
      "Step=1, loss=0.196057, [W=0.877865 b=0.078793]\n",
      "Step=2, loss=0.175593, [W=0.836163 b=0.100815]\n",
      "Step=3, loss=0.161269, [W=0.798690 b=0.113779]\n",
      "Step=4, loss=0.151783, [W=0.766945 b=0.120753]\n",
      "Step=5, loss=0.145930, [W=0.741468 b=0.124377]\n",
      "Step=6, loss=0.142559, [W=0.721910 b=0.126337]\n",
      "Step=7, loss=0.140718, [W=0.707367 b=0.127498]\n",
      "Step=8, loss=0.139746, [W=0.696767 b=0.128249]\n",
      "Step=9, loss=0.139243, [W=0.689131 b=0.128760]\n",
      "Step=10, loss=0.138986, [W=0.683663 b=0.129118]\n",
      "Step=11, loss=0.138855, [W=0.679761 b=0.129371]\n",
      "Step=12, loss=0.138788, [W=0.676980 b=0.129551]\n",
      "Step=13, loss=0.138755, [W=0.675001 b=0.129678]\n",
      "Step=14, loss=0.138738, [W=0.673593 b=0.129769]\n",
      "Step=15, loss=0.138729, [W=0.672592 b=0.129834]\n",
      "Step=16, loss=0.138725, [W=0.671879 b=0.129880]\n",
      "Step=17, loss=0.138722, [W=0.671372 b=0.129912]\n",
      "Step=18, loss=0.138721, [W=0.671012 b=0.129936]\n",
      "Step=19, loss=0.138721, [W=0.670755 b=0.129952]\n",
      "Step=20, loss=0.138720, [W=0.670573 b=0.129964]\n",
      "Step=21, loss=0.138720, [W=0.670443 b=0.129972]\n",
      "Step=22, loss=0.138720, [W=0.670351 b=0.129978]\n",
      "Step=23, loss=0.138720, [W=0.670285 b=0.129982]\n",
      "Step=24, loss=0.138720, [W=0.670239 b=0.129985]\n",
      "Step=25, loss=0.138720, [W=0.670206 b=0.129988]\n",
      "Step=26, loss=0.138720, [W=0.670182 b=0.129989]\n",
      "Step=27, loss=0.138720, [W=0.670165 b=0.129990]\n",
      "Step=28, loss=0.138720, [W=0.670153 b=0.129991]\n",
      "Step=29, loss=0.138720, [W=0.670145 b=0.129991]\n",
      "Step=30, loss=0.138720, [W=0.670139 b=0.129992]\n",
      "Step=31, loss=0.138720, [W=0.670134 b=0.129992]\n",
      "Step=32, loss=0.138720, [W=0.670131 b=0.129992]\n",
      "Step=33, loss=0.138720, [W=0.670129 b=0.129992]\n",
      "Step=34, loss=0.138720, [W=0.670128 b=0.129993]\n",
      "Step=35, loss=0.138720, [W=0.670127 b=0.129993]\n",
      "Step=36, loss=0.138720, [W=0.670126 b=0.129993]\n",
      "Step=37, loss=0.138720, [W=0.670125 b=0.129993]\n",
      "Step=38, loss=0.138720, [W=0.670125 b=0.129993]\n",
      "Step=39, loss=0.138720, [W=0.670125 b=0.129993]\n",
      "Step=40, loss=0.138720, [W=0.670124 b=0.129993]\n",
      "Step=41, loss=0.138720, [W=0.670124 b=0.129993]\n",
      "Step=42, loss=0.138720, [W=0.670124 b=0.129993]\n",
      "Step=43, loss=0.138720, [W=0.670124 b=0.129993]\n",
      "Step=44, loss=0.138720, [W=0.670124 b=0.129993]\n",
      "Step=45, loss=0.138720, [W=0.670124 b=0.129993]\n",
      "Step=46, loss=0.138720, [W=0.670124 b=0.129993]\n",
      "Step=47, loss=0.138720, [W=0.670124 b=0.129993]\n",
      "Step=48, loss=0.138720, [W=0.670124 b=0.129993]\n",
      "Step=49, loss=0.138720, [W=0.670124 b=0.129993]\n",
      "Step=50, loss=0.138720, [W=0.670124 b=0.129993]\n",
      "Step=51, loss=0.138720, [W=0.670124 b=0.129993]\n",
      "Step=52, loss=0.138720, [W=0.670124 b=0.129993]\n",
      "Step=53, loss=0.138720, [W=0.670124 b=0.129993]\n",
      "Step=54, loss=0.138720, [W=0.670124 b=0.129993]\n",
      "Step=55, loss=0.138720, [W=0.670124 b=0.129993]\n",
      "Step=56, loss=0.138720, [W=0.670124 b=0.129993]\n",
      "Step=57, loss=0.138720, [W=0.670124 b=0.129993]\n",
      "Step=58, loss=0.138720, [W=0.670124 b=0.129993]\n",
      "Step=59, loss=0.138720, [W=0.670124 b=0.129993]\n",
      "Step=60, loss=0.138720, [W=0.670124 b=0.129993]\n",
      "Step=61, loss=0.138720, [W=0.670124 b=0.129993]\n",
      "Step=62, loss=0.138720, [W=0.670124 b=0.129993]\n",
      "Step=63, loss=0.138720, [W=0.670124 b=0.129993]\n",
      "Step=64, loss=0.138720, [W=0.670124 b=0.129993]\n",
      "Step=65, loss=0.138720, [W=0.670124 b=0.129993]\n",
      "Step=66, loss=0.138720, [W=0.670124 b=0.129993]\n",
      "Step=67, loss=0.138720, [W=0.670124 b=0.129993]\n",
      "Step=68, loss=0.138720, [W=0.670124 b=0.129993]\n",
      "Step=69, loss=0.138720, [W=0.670124 b=0.129993]\n",
      "Step=70, loss=0.138720, [W=0.670124 b=0.129993]\n",
      "Step=71, loss=0.138720, [W=0.670124 b=0.129993]\n",
      "Step=72, loss=0.138720, [W=0.670124 b=0.129993]\n",
      "Step=73, loss=0.138720, [W=0.670124 b=0.129993]\n",
      "Step=74, loss=0.138720, [W=0.670124 b=0.129993]\n",
      "Step=75, loss=0.138720, [W=0.670124 b=0.129993]\n",
      "Step=76, loss=0.138720, [W=0.670124 b=0.129993]\n",
      "Step=77, loss=0.138720, [W=0.670124 b=0.129993]\n",
      "Step=78, loss=0.138720, [W=0.670124 b=0.129993]\n",
      "Step=79, loss=0.138720, [W=0.670124 b=0.129993]\n"
     ]
    },
    {
     "data": {
      "image/png": "[encoded data removed]",
      "text/plain": [
       "<matplotlib.figure.Figure at 0x7f370a7ecb70>"
      ]
     },
     "metadata": {},
     "output_type": "display_data"
    }
   ],
   "source": [
    "with tf.Session() as ss:\n",
    "    ss.run(init)\n",
    "    for step in range(epoch):\n",
    "        ss.run(training2)\n",
    "        # Get access to graph variables(just read) with session.run(varName)    \n",
    "        print(\"Step=%d, loss=%f, [W=%f b=%f]\" % (step,ss.run(loss2),ss.run(W2),ss.run(b2)))\n",
    "    plt.scatter(X_d, y_d, label=\"Actual\")\n",
    "    plt.plot(X_d, ss.run(W2) * X_d + ss.run(b2),label=\"Predicted\")\n",
    "    plt.xlabel('x')\n",
    "    plt.ylabel('y')\n",
    "    plt.legend()\n",
    "    plt.show()"
   ]
  },
  {
   "cell_type": "markdown",
   "metadata": {
    "collapsed": true
   },
   "source": [
    "Dengan RMSE ternyata lebih cepat mencapai nilai loss yang lebih rendah dengan epoch yg sama"
   ]
  },
  {
   "cell_type": "code",
   "execution_count": null,
   "metadata": {
    "collapsed": true
   },
   "outputs": [],
   "source": []
  },
  {
   "cell_type": "code",
   "execution_count": null,
   "metadata": {
    "collapsed": true
   },
   "outputs": [],
   "source": []
  }
 ],
 "metadata": {
  "kernelspec": {
   "display_name": "Python 3",
   "language": "python",
   "name": "python3"
  },
  "language_info": {
   "codemirror_mode": {
    "name": "ipython",
    "version": 3
   },
   "file_extension": ".py",
   "mimetype": "text/x-python",
   "name": "python",
   "nbconvert_exporter": "python",
   "pygments_lexer": "ipython3",
   "version": "3.6.3"
  }
 },
 "nbformat": 4,
 "nbformat_minor": 2
}
