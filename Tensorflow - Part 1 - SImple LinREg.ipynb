{
 "cells": [
  {
   "cell_type": "code",
   "execution_count": 1,
   "metadata": {},
   "outputs": [],
   "source": [
    "import tensorflow as tf\n",
    "import numpy as np\n",
    "import matplotlib.pyplot as plt"
   ]
  },
  {
   "cell_type": "code",
   "execution_count": 2,
   "metadata": {},
   "outputs": [],
   "source": [
    "a=tf.placeholder(tf.float32)\n",
    "b=tf.placeholder(tf.float32)\n",
    "c=tf.multiply(a,b)"
   ]
  },
  {
   "cell_type": "code",
   "execution_count": 3,
   "metadata": {},
   "outputs": [
    {
     "name": "stdout",
     "output_type": "stream",
     "text": [
      "18.0\n"
     ]
    }
   ],
   "source": [
    "with tf.Session() as ss:\n",
    "    print(ss.run(c,feed_dict={a:3,b:6}))"
   ]
  },
  {
   "cell_type": "markdown",
   "metadata": {},
   "source": [
    "# Simple Lin Reg"
   ]
  },
  {
   "cell_type": "code",
   "execution_count": 4,
   "metadata": {},
   "outputs": [],
   "source": [
    "points= 100\n",
    "vector_s = []\n",
    "for i in range(points):\n",
    "    #Fungsi y= 0.7*x + 0.12 \n",
    "    x=np.random.normal(0,0.62)\n",
    "    y=0.7*x + 0.12 + np.random.normal(0,0.13)\n",
    "    vector_s.append([x,y])"
   ]
  },
  {
   "cell_type": "code",
   "execution_count": 5,
   "metadata": {},
   "outputs": [],
   "source": [
    "X_d = [k[0] for k in vector_s]\n",
    "y_d = [k[1] for k in vector_s]"
   ]
  },
  {
   "cell_type": "code",
   "execution_count": 6,
   "metadata": {},
   "outputs": [
    {
     "data": {
      "image/png": "[encoded data removed]",
      "text/plain": [
       "<matplotlib.figure.Figure at 0x7fc94f637ba8>"
      ]
     },
     "metadata": {
      "needs_background": "light"
     },
     "output_type": "display_data"
    }
   ],
   "source": [
    "plt.scatter(X_d,y_d)\n",
    "plt.show()"
   ]
  },
  {
   "cell_type": "code",
   "execution_count": 7,
   "metadata": {},
   "outputs": [],
   "source": [
    "W = tf.Variable(tf.random_uniform([1], -1.0, 1.0))\n",
    "b = tf.Variable(tf.zeros([1.0]))\n",
    "y = W * X_d + b\n",
    "\n",
    "W2 = tf.Variable(tf.random_uniform([1], -1.0, 1.0))\n",
    "b2 = tf.Variable(tf.zeros([1.0]))\n",
    "y2 = W2 * X_d + b2"
   ]
  },
  {
   "cell_type": "code",
   "execution_count": 11,
   "metadata": {},
   "outputs": [],
   "source": [
    "loss = tf.reduce_mean(tf.square(y-y_d))\n",
    "loss2 = tf.sqrt(tf.reduce_mean(tf.square(y2-y_d)))\n",
    "optim = tf.train.GradientDescentOptimizer(learning_rate=0.003)\n",
    "training = optim.minimize(loss)\n",
    "training2 = optim.minimize(loss2)"
   ]
  },
  {
   "cell_type": "markdown",
   "metadata": {},
   "source": [
    "Dengan loss function SSE (tf.reduce_mean(tf.square(y-y_d)))"
   ]
  },
  {
   "cell_type": "code",
   "execution_count": 12,
   "metadata": {},
   "outputs": [
    {
     "name": "stdout",
     "output_type": "stream",
     "text": [
      "Step=0, loss=0.038457, [W=0.489249 b=0.000569]\n",
      "Step=1, loss=0.038314, [W=0.489579 b=0.001135]\n",
      "Step=2, loss=0.038173, [W=0.489909 b=0.001698]\n",
      "Step=3, loss=0.038033, [W=0.490238 b=0.002258]\n",
      "Step=4, loss=0.037894, [W=0.490567 b=0.002814]\n",
      "Step=5, loss=0.037756, [W=0.490896 b=0.003367]\n",
      "Step=6, loss=0.037620, [W=0.491224 b=0.003917]\n",
      "Step=7, loss=0.037484, [W=0.491552 b=0.004464]\n",
      "Step=8, loss=0.037350, [W=0.491879 b=0.005008]\n",
      "Step=9, loss=0.037218, [W=0.492207 b=0.005549]\n",
      "Step=10, loss=0.037086, [W=0.492533 b=0.006086]\n",
      "Step=11, loss=0.036955, [W=0.492860 b=0.006621]\n",
      "Step=12, loss=0.036826, [W=0.493186 b=0.007152]\n",
      "Step=13, loss=0.036698, [W=0.493512 b=0.007681]\n",
      "Step=14, loss=0.036571, [W=0.493837 b=0.008206]\n",
      "Step=15, loss=0.036445, [W=0.494162 b=0.008729]\n",
      "Step=16, loss=0.036320, [W=0.494487 b=0.009248]\n",
      "Step=17, loss=0.036196, [W=0.494811 b=0.009765]\n",
      "Step=18, loss=0.036074, [W=0.495135 b=0.010279]\n",
      "Step=19, loss=0.035952, [W=0.495459 b=0.010789]\n",
      "Step=20, loss=0.035832, [W=0.495782 b=0.011297]\n",
      "Step=21, loss=0.035712, [W=0.496105 b=0.011802]\n",
      "Step=22, loss=0.035594, [W=0.496427 b=0.012304]\n",
      "Step=23, loss=0.035476, [W=0.496749 b=0.012803]\n",
      "Step=24, loss=0.035360, [W=0.497071 b=0.013300]\n",
      "Step=25, loss=0.035245, [W=0.497392 b=0.013793]\n",
      "Step=26, loss=0.035130, [W=0.497713 b=0.014284]\n",
      "Step=27, loss=0.035017, [W=0.498034 b=0.014772]\n",
      "Step=28, loss=0.034904, [W=0.498354 b=0.015257]\n",
      "Step=29, loss=0.034793, [W=0.498674 b=0.015740]\n",
      "Step=30, loss=0.034682, [W=0.498994 b=0.016219]\n",
      "Step=31, loss=0.034573, [W=0.499313 b=0.016696]\n",
      "Step=32, loss=0.034464, [W=0.499632 b=0.017171]\n",
      "Step=33, loss=0.034356, [W=0.499950 b=0.017642]\n",
      "Step=34, loss=0.034250, [W=0.500268 b=0.018111]\n",
      "Step=35, loss=0.034144, [W=0.500586 b=0.018578]\n",
      "Step=36, loss=0.034039, [W=0.500903 b=0.019041]\n",
      "Step=37, loss=0.033935, [W=0.501220 b=0.019502]\n",
      "Step=38, loss=0.033831, [W=0.501537 b=0.019961]\n",
      "Step=39, loss=0.033729, [W=0.501853 b=0.020417]\n",
      "Step=40, loss=0.033628, [W=0.502169 b=0.020870]\n",
      "Step=41, loss=0.033527, [W=0.502484 b=0.021321]\n",
      "Step=42, loss=0.033427, [W=0.502799 b=0.021769]\n",
      "Step=43, loss=0.033328, [W=0.503114 b=0.022214]\n",
      "Step=44, loss=0.033230, [W=0.503428 b=0.022657]\n",
      "Step=45, loss=0.033133, [W=0.503742 b=0.023098]\n",
      "Step=46, loss=0.033036, [W=0.504056 b=0.023536]\n",
      "Step=47, loss=0.032940, [W=0.504369 b=0.023972]\n",
      "Step=48, loss=0.032845, [W=0.504682 b=0.024405]\n",
      "Step=49, loss=0.032751, [W=0.504994 b=0.024836]\n",
      "Step=50, loss=0.032658, [W=0.505306 b=0.025264]\n",
      "Step=51, loss=0.032565, [W=0.505618 b=0.025690]\n",
      "Step=52, loss=0.032473, [W=0.505929 b=0.026113]\n",
      "Step=53, loss=0.032382, [W=0.506240 b=0.026535]\n",
      "Step=54, loss=0.032292, [W=0.506550 b=0.026953]\n",
      "Step=55, loss=0.032202, [W=0.506860 b=0.027370]\n",
      "Step=56, loss=0.032113, [W=0.507170 b=0.027784]\n",
      "Step=57, loss=0.032025, [W=0.507479 b=0.028196]\n",
      "Step=58, loss=0.031937, [W=0.507788 b=0.028605]\n",
      "Step=59, loss=0.031850, [W=0.508097 b=0.029012]\n",
      "Step=60, loss=0.031764, [W=0.508405 b=0.029417]\n",
      "Step=61, loss=0.031679, [W=0.508713 b=0.029819]\n",
      "Step=62, loss=0.031594, [W=0.509020 b=0.030220]\n",
      "Step=63, loss=0.031510, [W=0.509327 b=0.030618]\n",
      "Step=64, loss=0.031427, [W=0.509634 b=0.031014]\n",
      "Step=65, loss=0.031344, [W=0.509940 b=0.031407]\n",
      "Step=66, loss=0.031262, [W=0.510246 b=0.031799]\n",
      "Step=67, loss=0.031181, [W=0.510551 b=0.032188]\n",
      "Step=68, loss=0.031100, [W=0.510856 b=0.032575]\n",
      "Step=69, loss=0.031020, [W=0.511161 b=0.032960]\n",
      "Step=70, loss=0.030940, [W=0.511465 b=0.033342]\n",
      "Step=71, loss=0.030861, [W=0.511769 b=0.033723]\n",
      "Step=72, loss=0.030783, [W=0.512072 b=0.034101]\n",
      "Step=73, loss=0.030705, [W=0.512376 b=0.034478]\n",
      "Step=74, loss=0.030628, [W=0.512678 b=0.034852]\n",
      "Step=75, loss=0.030552, [W=0.512981 b=0.035224]\n",
      "Step=76, loss=0.030476, [W=0.513282 b=0.035594]\n",
      "Step=77, loss=0.030401, [W=0.513584 b=0.035962]\n",
      "Step=78, loss=0.030326, [W=0.513885 b=0.036328]\n",
      "Step=79, loss=0.030252, [W=0.514186 b=0.036691]\n"
     ]
    },
    {
     "data": {
      "image/png": "[encoded data removed]",
      "text/plain": [
       "<matplotlib.figure.Figure at 0x7fc930899080>"
      ]
     },
     "metadata": {
      "needs_background": "light"
     },
     "output_type": "display_data"
    }
   ],
   "source": [
    "init = tf.global_variables_initializer()\n",
    "epoch = 80\n",
    "with tf.Session() as ss:\n",
    "    ss.run(init)\n",
    "    for step in range(epoch):\n",
    "        ss.run(training)\n",
    "        # Get access to graph variables(just read) with session.run(varName)    \n",
    "        print(\"Step=%d, loss=%f, [W=%f b=%f]\" % (step,ss.run(loss),ss.run(W),ss.run(b)))\n",
    "    plt.scatter(X_d, y_d, label=\"Actual\")\n",
    "    plt.plot(X_d, ss.run(W) * X_d + ss.run(b),label=\"Predicted\")\n",
    "    plt.xlabel('x')\n",
    "    plt.ylabel('y')\n",
    "    plt.legend()\n",
    "    plt.show()"
   ]
  },
  {
   "cell_type": "markdown",
   "metadata": {},
   "source": [
    "Dengan loss function RMSE (tf.sqrt(tf.reduce_mean(tf.square(y2-y_d)))"
   ]
  },
  {
   "cell_type": "code",
   "execution_count": 13,
   "metadata": {},
   "outputs": [
    {
     "name": "stdout",
     "output_type": "stream",
     "text": [
      "Step=0, loss=0.751942, [W=-0.634516 b=0.000003]\n",
      "Step=1, loss=0.751033, [W=-0.632865 b=0.000006]\n",
      "Step=2, loss=0.750124, [W=-0.631214 b=0.000010]\n",
      "Step=3, loss=0.749216, [W=-0.629563 b=0.000014]\n",
      "Step=4, loss=0.748307, [W=-0.627912 b=0.000019]\n",
      "Step=5, loss=0.747399, [W=-0.626261 b=0.000024]\n",
      "Step=6, loss=0.746491, [W=-0.624610 b=0.000030]\n",
      "Step=7, loss=0.745583, [W=-0.622960 b=0.000037]\n",
      "Step=8, loss=0.744675, [W=-0.621309 b=0.000044]\n",
      "Step=9, loss=0.743767, [W=-0.619659 b=0.000051]\n",
      "Step=10, loss=0.742859, [W=-0.618008 b=0.000059]\n",
      "Step=11, loss=0.741951, [W=-0.616358 b=0.000068]\n",
      "Step=12, loss=0.741044, [W=-0.614708 b=0.000077]\n",
      "Step=13, loss=0.740136, [W=-0.613058 b=0.000087]\n",
      "Step=14, loss=0.739229, [W=-0.611409 b=0.000097]\n",
      "Step=15, loss=0.738322, [W=-0.609759 b=0.000108]\n",
      "Step=16, loss=0.737415, [W=-0.608109 b=0.000119]\n",
      "Step=17, loss=0.736508, [W=-0.606460 b=0.000131]\n",
      "Step=18, loss=0.735601, [W=-0.604810 b=0.000143]\n",
      "Step=19, loss=0.734694, [W=-0.603161 b=0.000156]\n",
      "Step=20, loss=0.733787, [W=-0.601512 b=0.000170]\n",
      "Step=21, loss=0.732881, [W=-0.599863 b=0.000184]\n",
      "Step=22, loss=0.731975, [W=-0.598214 b=0.000198]\n",
      "Step=23, loss=0.731068, [W=-0.596565 b=0.000213]\n",
      "Step=24, loss=0.730162, [W=-0.594916 b=0.000228]\n",
      "Step=25, loss=0.729256, [W=-0.593268 b=0.000245]\n",
      "Step=26, loss=0.728350, [W=-0.591619 b=0.000261]\n",
      "Step=27, loss=0.727445, [W=-0.589971 b=0.000278]\n",
      "Step=28, loss=0.726539, [W=-0.588323 b=0.000296]\n",
      "Step=29, loss=0.725633, [W=-0.586675 b=0.000314]\n",
      "Step=30, loss=0.724728, [W=-0.585027 b=0.000332]\n",
      "Step=31, loss=0.723823, [W=-0.583379 b=0.000352]\n",
      "Step=32, loss=0.722917, [W=-0.581731 b=0.000371]\n",
      "Step=33, loss=0.722012, [W=-0.580083 b=0.000391]\n",
      "Step=34, loss=0.721107, [W=-0.578435 b=0.000412]\n",
      "Step=35, loss=0.720203, [W=-0.576788 b=0.000433]\n",
      "Step=36, loss=0.719298, [W=-0.575141 b=0.000455]\n",
      "Step=37, loss=0.718393, [W=-0.573493 b=0.000477]\n",
      "Step=38, loss=0.717489, [W=-0.571846 b=0.000500]\n",
      "Step=39, loss=0.716584, [W=-0.570199 b=0.000523]\n",
      "Step=40, loss=0.715680, [W=-0.568552 b=0.000547]\n",
      "Step=41, loss=0.714776, [W=-0.566906 b=0.000571]\n",
      "Step=42, loss=0.713872, [W=-0.565259 b=0.000596]\n",
      "Step=43, loss=0.712968, [W=-0.563612 b=0.000621]\n",
      "Step=44, loss=0.712064, [W=-0.561966 b=0.000647]\n",
      "Step=45, loss=0.711161, [W=-0.560320 b=0.000673]\n",
      "Step=46, loss=0.710257, [W=-0.558674 b=0.000700]\n",
      "Step=47, loss=0.709354, [W=-0.557028 b=0.000728]\n",
      "Step=48, loss=0.708451, [W=-0.555382 b=0.000755]\n",
      "Step=49, loss=0.707547, [W=-0.553736 b=0.000784]\n",
      "Step=50, loss=0.706644, [W=-0.552090 b=0.000812]\n",
      "Step=51, loss=0.705741, [W=-0.550444 b=0.000842]\n",
      "Step=52, loss=0.704839, [W=-0.548799 b=0.000872]\n",
      "Step=53, loss=0.703936, [W=-0.547153 b=0.000902]\n",
      "Step=54, loss=0.703033, [W=-0.545508 b=0.000933]\n",
      "Step=55, loss=0.702131, [W=-0.543863 b=0.000964]\n",
      "Step=56, loss=0.701229, [W=-0.542218 b=0.000996]\n",
      "Step=57, loss=0.700326, [W=-0.540573 b=0.001028]\n",
      "Step=58, loss=0.699424, [W=-0.538928 b=0.001061]\n",
      "Step=59, loss=0.698522, [W=-0.537284 b=0.001094]\n",
      "Step=60, loss=0.697620, [W=-0.535639 b=0.001128]\n",
      "Step=61, loss=0.696719, [W=-0.533995 b=0.001162]\n",
      "Step=62, loss=0.695817, [W=-0.532350 b=0.001197]\n",
      "Step=63, loss=0.694916, [W=-0.530706 b=0.001232]\n",
      "Step=64, loss=0.694014, [W=-0.529062 b=0.001268]\n",
      "Step=65, loss=0.693113, [W=-0.527418 b=0.001304]\n",
      "Step=66, loss=0.692212, [W=-0.525774 b=0.001341]\n",
      "Step=67, loss=0.691311, [W=-0.524131 b=0.001378]\n",
      "Step=68, loss=0.690410, [W=-0.522487 b=0.001415]\n",
      "Step=69, loss=0.689509, [W=-0.520844 b=0.001454]\n",
      "Step=70, loss=0.688609, [W=-0.519201 b=0.001492]\n",
      "Step=71, loss=0.687708, [W=-0.517557 b=0.001531]\n",
      "Step=72, loss=0.686808, [W=-0.515914 b=0.001571]\n",
      "Step=73, loss=0.685908, [W=-0.514271 b=0.001611]\n",
      "Step=74, loss=0.685008, [W=-0.512628 b=0.001652]\n",
      "Step=75, loss=0.684107, [W=-0.510986 b=0.001693]\n",
      "Step=76, loss=0.683208, [W=-0.509343 b=0.001734]\n",
      "Step=77, loss=0.682308, [W=-0.507701 b=0.001776]\n",
      "Step=78, loss=0.681408, [W=-0.506058 b=0.001819]\n",
      "Step=79, loss=0.680509, [W=-0.504416 b=0.001861]\n"
     ]
    },
    {
     "data": {
      "image/png": "[encoded data removed]",
      "text/plain": [
       "<matplotlib.figure.Figure at 0x7fc94c0c4588>"
      ]
     },
     "metadata": {
      "needs_background": "light"
     },
     "output_type": "display_data"
    }
   ],
   "source": [
    "with tf.Session() as ss:\n",
    "    ss.run(init)\n",
    "    for step in range(epoch):\n",
    "        ss.run(training2)\n",
    "        # Get access to graph variables(just read) with session.run(varName)    \n",
    "        print(\"Step=%d, loss=%f, [W=%f b=%f]\" % (step,ss.run(loss2),ss.run(W2),ss.run(b2)))\n",
    "    plt.scatter(X_d, y_d, label=\"Actual\")\n",
    "    plt.plot(X_d, ss.run(W2) * X_d + ss.run(b2),label=\"Predicted\")\n",
    "    plt.xlabel('x')\n",
    "    plt.ylabel('y')\n",
    "    plt.legend()\n",
    "    plt.show()"
   ]
  },
  {
   "cell_type": "markdown",
   "metadata": {
    "collapsed": true
   },
   "source": [
    "Dengan RMSE ternyata lebih cepat mencapai nilai loss yang lebih rendah dengan epoch yg sama"
   ]
  },
  {
   "cell_type": "code",
   "execution_count": null,
   "metadata": {
    "collapsed": true
   },
   "outputs": [],
   "source": []
  },
  {
   "cell_type": "code",
   "execution_count": null,
   "metadata": {
    "collapsed": true
   },
   "outputs": [],
   "source": []
  }
 ],
 "metadata": {
  "kernelspec": {
   "display_name": "Python 3",
   "language": "python",
   "name": "python3"
  },
  "language_info": {
   "codemirror_mode": {
    "name": "ipython",
    "version": 3
   },
   "file_extension": ".py",
   "mimetype": "text/x-python",
   "name": "python",
   "nbconvert_exporter": "python",
   "pygments_lexer": "ipython3",
   "version": "3.6.3"
  }
 },
 "nbformat": 4,
 "nbformat_minor": 2
}
